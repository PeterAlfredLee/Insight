{
 "cells": [
  {
   "cell_type": "code",
   "execution_count": 169,
   "metadata": {},
   "outputs": [],
   "source": [
    "import json\n",
    "import pandas as pd\n",
    "import numpy  as np\n",
    "import csv\n",
    "import datetime\n",
    "from urllib.request import urlopen\n",
    "\n",
    "today = datetime.datetime.today()\n",
    "\n",
    "# Show all data \n",
    "pd.set_option('display.max_columns',None)\n",
    "pd.set_option('display.max_rows',None)\n",
    "\n",
    "# Read the information in 'committee-info.json' which contains information such as roste_count, description, established, roster, etc.\n",
    "# The 'committee-info.json' was downloaded from 'https://whimsy.apache.org/public/'\n",
    "# committees_json = open('committee-info.json').read()\n",
    "\n",
    "# or get data directly from 'https://whimsy.apache.org/public/committee-info.json'\n",
    "url = 'https://whimsy.apache.org/public/committee-info.json'\n",
    "response = urlopen(url) \n",
    "committees_json = response.read()\n",
    "committees_info = json.loads(committees_json)\n",
    "committees = committees_info['committees']\n",
    "\n",
    "# taglist\n",
    "# 拿到_TreeviewTagDict然后查询\n",
    "tag_json = open('../public/json/projects_total.json').read()\n",
    "tag_dict = json.loads(tag_json)\n",
    "\n"
   ]
  },
  {
   "cell_type": "markdown",
   "metadata": {},
   "source": [
    "\n",
    "Create a datafame, which contains the members' information for each committee: committee name, name, id, date"
   ]
  },
  {
   "cell_type": "code",
   "execution_count": 170,
   "metadata": {},
   "outputs": [],
   "source": [
    "committer = pd.DataFrame()\n",
    "\n",
    "for item in committees:\n",
    "    committee_info = pd.DataFrame.from_dict(committees[item]['roster'],orient='index',columns=['name','date'])\n",
    "    committee_info['committee'] = item\n",
    "    committee_info['description'] = committees[item]['description']\n",
    "\n",
    "    committer = pd.concat([committer,committee_info],axis = 0)\n",
    "\n",
    "committer['date'] = pd.to_datetime(committer['date'])\n",
    "committer['year'] = committer['date'].dt.year\n",
    "committer['month'] = committer['date'].dt.month\n",
    "committeeList = list(set(committer['committee']))\n",
    "\n"
   ]
  },
  {
   "cell_type": "markdown",
   "metadata": {},
   "source": [
    "summarise the committee information, including the year the committee was created, description, name, total number of people to date, etc."
   ]
  },
  {
   "cell_type": "code",
   "execution_count": 171,
   "metadata": {},
   "outputs": [],
   "source": [
    "from pandas import NA\n",
    "\n",
    "# Extracts the creation time of the committee  e.g. \"12/2000, reestablished 10/2002\" => 12/2000\n",
    "def extractDate(x):\n",
    "    if x:\n",
    "        return x.replace(',',';').split(';')[0]\n",
    "    else:\n",
    "        return NA\n",
    "\n",
    "committees = pd.DataFrame.from_dict(committees,orient='index',columns=[ \"display_name\",\"established\",\"roster_count\"])\n",
    "committees['established'] = pd.to_datetime(committees['established'].map(extractDate))\n",
    "committees['description'] = [committees_info['committees'][index]['description'] for index in committees.index]\n",
    "committees.reset_index(inplace=True)\n",
    "committees.rename(columns={'index':'committee_name'},inplace=True)"
   ]
  },
  {
   "cell_type": "markdown",
   "metadata": {},
   "source": [
    "Process the data to graph the annual growth in committee size: yaxis, xaixs, value=[[x1,y1,size1],[x1,y2,size2]]\n",
    "\n",
    "Since the total number of committees was too large for the graph to display, the data was filtered， removed the committees with the maximum annual growth of less than 15 from the display"
   ]
  },
  {
   "cell_type": "code",
   "execution_count": 172,
   "metadata": {},
   "outputs": [
    {
     "ename": "AttributeError",
     "evalue": "'NoneType' object has no attribute 'remove'",
     "output_type": "error",
     "traceback": [
      "\u001b[1;31m---------------------------------------------------------------------------\u001b[0m",
      "\u001b[1;31mAttributeError\u001b[0m                            Traceback (most recent call last)",
      "\u001b[1;32md:\\work\\jupyter\\data\\data\\charts\\vue3\\Insight\\script\\stats.ipynb Cell 7\u001b[0m in \u001b[0;36m<cell line: 75>\u001b[1;34m()\u001b[0m\n\u001b[0;32m     <a href='vscode-notebook-cell:/d%3A/work/jupyter/data/data/charts/vue3/Insight/script/stats.ipynb#X10sZmlsZQ%3D%3D?line=70'>71</a>\u001b[0m         scatter_dict[r[\u001b[39m0\u001b[39m]] \u001b[39m=\u001b[39m r[\u001b[39m1\u001b[39m]\n\u001b[0;32m     <a href='vscode-notebook-cell:/d%3A/work/jupyter/data/data/charts/vue3/Insight/script/stats.ipynb#X10sZmlsZQ%3D%3D?line=71'>72</a>\u001b[0m     \u001b[39mreturn\u001b[39;00m scatter_dict\n\u001b[1;32m---> <a href='vscode-notebook-cell:/d%3A/work/jupyter/data/data/charts/vue3/Insight/script/stats.ipynb#X10sZmlsZQ%3D%3D?line=74'>75</a>\u001b[0m scatter \u001b[39m=\u001b[39m ScatterData(committer)\n",
      "\u001b[1;32md:\\work\\jupyter\\data\\data\\charts\\vue3\\Insight\\script\\stats.ipynb Cell 7\u001b[0m in \u001b[0;36mScatterData\u001b[1;34m(raw_df)\u001b[0m\n\u001b[0;32m     <a href='vscode-notebook-cell:/d%3A/work/jupyter/data/data/charts/vue3/Insight/script/stats.ipynb#X10sZmlsZQ%3D%3D?line=58'>59</a>\u001b[0m df \u001b[39m=\u001b[39m addTag(raw_df)\n\u001b[0;32m     <a href='vscode-notebook-cell:/d%3A/work/jupyter/data/data/charts/vue3/Insight/script/stats.ipynb#X10sZmlsZQ%3D%3D?line=59'>60</a>\u001b[0m tag_list \u001b[39m=\u001b[39m\u001b[39mlist\u001b[39m(\u001b[39mset\u001b[39m(\u001b[39m'\u001b[39m\u001b[39m,\u001b[39m\u001b[39m'\u001b[39m\u001b[39m.\u001b[39mjoin(\u001b[39mlist\u001b[39m(df[\u001b[39m'\u001b[39m\u001b[39mtag\u001b[39m\u001b[39m'\u001b[39m]))\u001b[39m.\u001b[39msplit(\u001b[39m'\u001b[39m\u001b[39m,\u001b[39m\u001b[39m'\u001b[39m)))\n\u001b[1;32m---> <a href='vscode-notebook-cell:/d%3A/work/jupyter/data/data/charts/vue3/Insight/script/stats.ipynb#X10sZmlsZQ%3D%3D?line=60'>61</a>\u001b[0m tag_list\u001b[39m.\u001b[39;49mremove(\u001b[39m'\u001b[39;49m\u001b[39m'\u001b[39;49m)\u001b[39m.\u001b[39;49mremove(\u001b[39m'\u001b[39m\u001b[39mapache\u001b[39m\u001b[39m'\u001b[39m)\n\u001b[0;32m     <a href='vscode-notebook-cell:/d%3A/work/jupyter/data/data/charts/vue3/Insight/script/stats.ipynb#X10sZmlsZQ%3D%3D?line=61'>62</a>\u001b[0m result \u001b[39m=\u001b[39m {}\n\u001b[0;32m     <a href='vscode-notebook-cell:/d%3A/work/jupyter/data/data/charts/vue3/Insight/script/stats.ipynb#X10sZmlsZQ%3D%3D?line=62'>63</a>\u001b[0m \u001b[39mfor\u001b[39;00m tag \u001b[39min\u001b[39;00m tag_list:\n",
      "\u001b[1;31mAttributeError\u001b[0m: 'NoneType' object has no attribute 'remove'"
     ]
    }
   ],
   "source": [
    "# Merge the year and committee columns to create a new column for easy grouping of data\n",
    "\n",
    "\n",
    "from cmath import log\n",
    "\n",
    "\n",
    "def dataFilter(raw_df):\n",
    "    \n",
    "    committee_list = raw_df['committee']\n",
    "    drop_list = []\n",
    "    for committee_name in committee_list:\n",
    "        sub_df = raw_df[raw_df['committee'] == committee_name] \n",
    "        if sub_df['size'].max() < 15:\n",
    "            drop_list.append(committee_name)\n",
    "            index = raw_df[raw_df['committee'] == committee_name].index[0]\n",
    "            raw_df = raw_df.drop(index=index)\n",
    "    return raw_df\n",
    "\n",
    "def chartData(raw_df):\n",
    "\n",
    "    yAxis_value = list(set(raw_df['committee']))\n",
    "    xAxis_value = list(set(raw_df['year']))\n",
    "    xAxis_value.sort()\n",
    "    size_value = []\n",
    "    for index, row in raw_df.iterrows():\n",
    "        size_value.append([yAxis_value.index(row['committee']),xAxis_value.index(row['year']),row['size']])\n",
    "    \n",
    "    return {\n",
    "        'yAxis':yAxis_value,\n",
    "        'xAxis':xAxis_value,\n",
    "        'size':size_value\n",
    "    }\n",
    "\n",
    "def getTag(str):\n",
    "    if pd.isna(str) == False:\n",
    "        try:\n",
    "            return tag_dict[str][\"tag\"]\n",
    "        except:\n",
    "            return str\n",
    "    else:\n",
    "        return ''\n",
    "    \n",
    "# 获取tag\n",
    "def addTag(raw_df):\n",
    "    df = raw_df\n",
    "    df['tag'] = df['committee'].apply(getTag)\n",
    "    return df\n",
    "\n",
    "def getData(raw_df):\n",
    "    df = raw_df.groupby(['committee','year'])['name'].count().to_frame()\n",
    "    df.reset_index(inplace=True) #turn the grouped indexes into columns\n",
    "    df.rename(columns={'name':'size'},inplace=True)\n",
    "    result_df = chartData(df)\n",
    "\n",
    "    return result_df\n",
    "\n",
    "# 按照tag进行分组，并且输出\n",
    "def ScatterData(raw_df):\n",
    "    df = addTag(raw_df)\n",
    "    tag_list =list(set(','.join(list(df['tag'])).split(',')))\n",
    "    tag_list.remove('')\n",
    "    tag_list.remove('apache')\n",
    "    result = {}\n",
    "    for tag in tag_list:\n",
    "        sub_df = df[ df['tag'].apply(lambda x: tag in x)]\n",
    "        sub_dict = getData(sub_df)\n",
    "        result[tag] = sub_dict\n",
    "        result[tag]['num'] = len(sub_dict['yAxis'])\n",
    "    res = sorted(result.items(),key=lambda x:x[1]['num'],reverse=True)\n",
    "    scatter_dict = {}\n",
    "    for r in res:\n",
    "        scatter_dict[r[0]] = r[1]\n",
    "    return scatter_dict\n",
    "        \n",
    "    \n",
    "scatter = ScatterData(committer)\n"
   ]
  },
  {
   "cell_type": "markdown",
   "metadata": {},
   "source": [
    "Subchart: monthly growth graph for the selected committee "
   ]
  },
  {
   "cell_type": "code",
   "execution_count": null,
   "metadata": {},
   "outputs": [],
   "source": [
    "\n",
    "def completeMonthColumn(df):\n",
    "    # Complete the year-months from the date of creation to the present\n",
    "    df['year_month'] = df['year'].map(str) +'-' +df['month'].map(str)\n",
    "    result_dict = {}\n",
    "\n",
    "    for committee in committeeList:\n",
    "        sub_df = df[df['committee'] == committee]\n",
    "        year_list = sub_df['year']\n",
    "        date_list = list(sub_df['year_month'])\n",
    "        date_list_new = [str(year) + '-' + str(month) for year in range(int(year_list.min()),today.year + 1) for month in range(1,13)]\n",
    "        data_list_min = date_list[0]\n",
    "        data_list_max = str(today.year) + '-' + str(today.month)\n",
    "        date_list_new = date_list_new[date_list_new.index(data_list_min):date_list_new.index(data_list_max)+1]\n",
    "        add_list =[]\n",
    "        for date in date_list_new:\n",
    "            if date in date_list:\n",
    "                add_list.append(list(sub_df[sub_df['year_month'] == date]['add'])[0])\n",
    "            else:\n",
    "                add_list.append(0)\n",
    "        result_dict[committee] = {\n",
    "            'xAxis':date_list_new,\n",
    "            'values':add_list,\n",
    "            'description':committees_info['committees'][committee][\"description\"],\n",
    "            'established':committees_info['committees'][committee][\"established\"]\n",
    "        }\n",
    "        \n",
    "\n",
    "    return result_dict\n",
    "            \n",
    "def lineData(raw_df):\n",
    "    df = raw_df.groupby(['committee','year','month'])['name'].count().to_frame()\n",
    "    df.reset_index(inplace = True)\n",
    "    df.rename(columns={'name':'add'},inplace=True)\n",
    "    result_dict = completeMonthColumn(df)\n",
    "    return result_dict\n",
    "    \n",
    "\n",
    "committee_detail_dict = lineData(committer)"
   ]
  },
  {
   "cell_type": "markdown",
   "metadata": {},
   "source": [
    "store the data\n"
   ]
  },
  {
   "cell_type": "code",
   "execution_count": null,
   "metadata": {},
   "outputs": [],
   "source": [
    "committer_dic = {\n",
    "    'scatter':scatter,\n",
    "    \"committee_detail\":committee_detail_dict\n",
    "}\n",
    "\n",
    "file_name = '../public/json/committer.json'\n",
    "\n",
    "with open(file_name,'w') as file_obj:\n",
    "    json.dump(committer_dic,file_obj)"
   ]
  }
 ],
 "metadata": {
  "kernelspec": {
   "display_name": "Python 3.9.12 ('base')",
   "language": "python",
   "name": "python3"
  },
  "language_info": {
   "codemirror_mode": {
    "name": "ipython",
    "version": 3
   },
   "file_extension": ".py",
   "mimetype": "text/x-python",
   "name": "python",
   "nbconvert_exporter": "python",
   "pygments_lexer": "ipython3",
   "version": "3.9.12"
  },
  "orig_nbformat": 4,
  "vscode": {
   "interpreter": {
    "hash": "429c4da532d5a49305ad374da5bd9411413fc9c5f93bdb5e51c34bc796003ebd"
   }
  }
 },
 "nbformat": 4,
 "nbformat_minor": 2
}
